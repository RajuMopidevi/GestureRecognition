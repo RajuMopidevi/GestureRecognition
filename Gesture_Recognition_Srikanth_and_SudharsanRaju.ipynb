{
  "cells": [
    {
      "cell_type": "markdown",
      "metadata": {
        "id": "view-in-github",
        "colab_type": "text"
      },
      "source": [
        "<a href=\"https://colab.research.google.com/github/RajuMopidevi/GestureRecognition/blob/main/Gesture_Recognition_Srikanth_and_SudharsanRaju.ipynb\" target=\"_parent\"><img src=\"https://colab.research.google.com/assets/colab-badge.svg\" alt=\"Open In Colab\"/></a>"
      ]
    },
    {
      "cell_type": "markdown",
      "metadata": {
        "id": "pRqXov-ecllA"
      },
      "source": [
        "# Gesture Recognition\n",
        "In this group project, you are going to build a 3D Conv model that will be able to predict the 5 gestures correctly. Please import the following libraries to get started."
      ]
    },
    {
      "cell_type": "code",
      "execution_count": 2,
      "metadata": {
        "id": "3sq29Wd-cllM"
      },
      "outputs": [],
      "source": [
        "import numpy as np\n",
        "import os\n",
        "#from scipy.misc import imread, imresize\n",
        "import datetime\n",
        "import os"
      ]
    },
    {
      "cell_type": "markdown",
      "metadata": {
        "id": "NgMgO1XvcllT"
      },
      "source": [
        "We set the random seed so that the results don't vary drastically."
      ]
    },
    {
      "cell_type": "code",
      "execution_count": 4,
      "metadata": {
        "id": "eUZX5ccRcllX"
      },
      "outputs": [],
      "source": [
        "np.random.seed(30)\n",
        "import random as rn\n",
        "rn.seed(30)\n",
        "from keras import backend as K\n",
        "import tensorflow as tf\n",
        "tf.random.set_seed(30) "
      ]
    },
    {
      "cell_type": "markdown",
      "metadata": {
        "id": "SkVd62lJclld"
      },
      "source": [
        "In this block, you read the folder names for training and validation. You also set the `batch_size` here. Note that you set the batch size in such a way that you are able to use the GPU in full capacity. You keep increasing the batch size until the machine throws an error."
      ]
    },
    {
      "cell_type": "code",
      "source": [
        "%%bash\n",
        "git clone https://github.com/RajuMopidevi/GestureRecognition"
      ],
      "metadata": {
        "id": "R_oBj4A93ITC",
        "outputId": "47fe2bc1-d59d-4c5f-c72c-b35c20b22e23",
        "colab": {
          "base_uri": "https://localhost:8080/"
        }
      },
      "execution_count": 5,
      "outputs": [
        {
          "output_type": "stream",
          "name": "stderr",
          "text": [
            "Cloning into 'GestureRecognition'...\n",
            "Checking out files:   3% (860/22895)   \rChecking out files:   4% (916/22895)   \rChecking out files:   5% (1145/22895)   \rChecking out files:   6% (1374/22895)   \rChecking out files:   7% (1603/22895)   \rChecking out files:   7% (1695/22895)   \rChecking out files:   8% (1832/22895)   \rChecking out files:   9% (2061/22895)   \rChecking out files:  10% (2290/22895)   \rChecking out files:  11% (2519/22895)   \rChecking out files:  11% (2520/22895)   \rChecking out files:  12% (2748/22895)   \rChecking out files:  13% (2977/22895)   \rChecking out files:  14% (3206/22895)   \rChecking out files:  14% (3342/22895)   \rChecking out files:  15% (3435/22895)   \rChecking out files:  16% (3664/22895)   \rChecking out files:  17% (3893/22895)   \rChecking out files:  18% (4122/22895)   \rChecking out files:  18% (4147/22895)   \rChecking out files:  19% (4351/22895)   \rChecking out files:  20% (4579/22895)   \rChecking out files:  21% (4808/22895)   \rChecking out files:  21% (5000/22895)   \rChecking out files:  22% (5037/22895)   \rChecking out files:  23% (5266/22895)   \rChecking out files:  24% (5495/22895)   \rChecking out files:  25% (5724/22895)   \rChecking out files:  26% (5953/22895)   \rChecking out files:  27% (6182/22895)   \rChecking out files:  28% (6411/22895)   \rChecking out files:  29% (6640/22895)   \rChecking out files:  30% (6869/22895)   \rChecking out files:  31% (7098/22895)   \rChecking out files:  32% (7327/22895)   \rChecking out files:  33% (7556/22895)   \rChecking out files:  34% (7785/22895)   \rChecking out files:  35% (8014/22895)   \rChecking out files:  36% (8243/22895)   \rChecking out files:  37% (8472/22895)   \rChecking out files:  38% (8701/22895)   \rChecking out files:  38% (8861/22895)   \rChecking out files:  39% (8930/22895)   \rChecking out files:  40% (9158/22895)   \rChecking out files:  41% (9387/22895)   \rChecking out files:  42% (9616/22895)   \rChecking out files:  43% (9845/22895)   \rChecking out files:  44% (10074/22895)   \rChecking out files:  45% (10303/22895)   \rChecking out files:  46% (10532/22895)   \rChecking out files:  47% (10761/22895)   \rChecking out files:  48% (10990/22895)   \rChecking out files:  49% (11219/22895)   \rChecking out files:  50% (11448/22895)   \rChecking out files:  51% (11677/22895)   \rChecking out files:  52% (11906/22895)   \rChecking out files:  53% (12135/22895)   \rChecking out files:  54% (12364/22895)   \rChecking out files:  55% (12593/22895)   \rChecking out files:  56% (12822/22895)   \rChecking out files:  57% (13051/22895)   \rChecking out files:  58% (13280/22895)   \rChecking out files:  59% (13509/22895)   \rChecking out files:  60% (13737/22895)   \rChecking out files:  61% (13966/22895)   \rChecking out files:  62% (14195/22895)   \rChecking out files:  63% (14424/22895)   \rChecking out files:  64% (14653/22895)   \rChecking out files:  65% (14882/22895)   \rChecking out files:  66% (15111/22895)   \rChecking out files:  67% (15340/22895)   \rChecking out files:  68% (15569/22895)   \rChecking out files:  69% (15798/22895)   \rChecking out files:  70% (16027/22895)   \rChecking out files:  71% (16256/22895)   \rChecking out files:  72% (16485/22895)   \rChecking out files:  72% (16559/22895)   \rChecking out files:  73% (16714/22895)   \rChecking out files:  74% (16943/22895)   \rChecking out files:  75% (17172/22895)   \rChecking out files:  76% (17401/22895)   \rChecking out files:  77% (17630/22895)   \rChecking out files:  78% (17859/22895)   \rChecking out files:  79% (18088/22895)   \rChecking out files:  80% (18316/22895)   \rChecking out files:  81% (18545/22895)   \rChecking out files:  82% (18774/22895)   \rChecking out files:  83% (19003/22895)   \rChecking out files:  84% (19232/22895)   \rChecking out files:  85% (19461/22895)   \rChecking out files:  86% (19690/22895)   \rChecking out files:  87% (19919/22895)   \rChecking out files:  88% (20148/22895)   \rChecking out files:  89% (20377/22895)   \rChecking out files:  89% (20405/22895)   \rChecking out files:  90% (20606/22895)   \rChecking out files:  91% (20835/22895)   \rChecking out files:  92% (21064/22895)   \rChecking out files:  93% (21293/22895)   \rChecking out files:  94% (21522/22895)   \rChecking out files:  95% (21751/22895)   \rChecking out files:  96% (21980/22895)   \rChecking out files:  97% (22209/22895)   \rChecking out files:  98% (22438/22895)   \rChecking out files:  99% (22667/22895)   \rChecking out files:  99% (22768/22895)   \rChecking out files: 100% (22895/22895)   \rChecking out files: 100% (22895/22895), done.\n"
          ]
        }
      ]
    },
    {
      "cell_type": "code",
      "source": [
        "%cd /content/GestureRecognition/Project_data/\n",
        "%ls -ltr"
      ],
      "metadata": {
        "id": "uw20LMoO5KGB",
        "outputId": "3819de8f-0168-45c7-a096-40200a790622",
        "colab": {
          "base_uri": "https://localhost:8080/"
        }
      },
      "execution_count": 7,
      "outputs": [
        {
          "output_type": "stream",
          "name": "stdout",
          "text": [
            "/content/GestureRecognition/Project_data\n",
            "total 124\n",
            "-rw-r--r--   1 root root 39651 Nov 11 17:34 train.csv\n",
            "drwxr-xr-x 665 root root 61440 Nov 11 17:34 \u001b[0m\u001b[01;34mtrain\u001b[0m/\n",
            "-rw-r--r--   1 root root  5970 Nov 11 17:34 val.csv\n",
            "drwxr-xr-x 102 root root 12288 Nov 11 17:34 \u001b[01;34mval\u001b[0m/\n"
          ]
        }
      ]
    },
    {
      "cell_type": "code",
      "execution_count": 8,
      "metadata": {
        "id": "fUbh4diicllf"
      },
      "outputs": [],
      "source": [
        "train_doc = np.random.permutation(open('/content/GestureRecognition/Project_data/train.csv').readlines())\n",
        "val_doc = np.random.permutation(open('/content/GestureRecognition/Project_data/val.csv').readlines())\n",
        "batch_size = 30"
      ]
    },
    {
      "cell_type": "markdown",
      "metadata": {
        "id": "wHyJ9zZBcllj"
      },
      "source": [
        "## Generator\n",
        "This is one of the most important part of the code. The overall structure of the generator has been given. In the generator, you are going to preprocess the images as you have images of 2 different dimensions as well as create a batch of video frames. You have to experiment with `img_idx`, `y`,`z` and normalization such that you get high accuracy."
      ]
    },
    {
      "cell_type": "code",
      "execution_count": 9,
      "metadata": {
        "id": "pGH6j7_Fclln"
      },
      "outputs": [],
      "source": [
        "def generator(source_path, folder_list, batch_size):\n",
        "    print( 'Source path = ', source_path, '; batch size =', batch_size)\n",
        "    img_idx = [num for num in range(0,15,1)] #create a list of image numbers you want to use for a particular video\n",
        "    while True:\n",
        "        t = np.random.permutation(folder_list)\n",
        "        num_batches = int(len(t)/batch_size) # calculate the number of batches\n",
        "        for batch in range(num_batches): # we iterate over the number of batches\n",
        "            batch_data = np.zeros((batch_size,15,120,120,3)) # x is the number of images you use for each video, (y,z) is the final size of the input images and 3 is the number of channels RGB\n",
        "            batch_labels = np.zeros((batch_size,5)) # batch_labels is the one hot representation of the output\n",
        "            for folder in range(batch_size): # iterate over the batch_size\n",
        "                imgs = os.listdir(source_path+'/'+ t[folder + (batch*batch_size)].split(';')[0]) # read all the images in the folder\n",
        "                for idx,item in enumerate(img_idx): #  Iterate iver the frames/images of a folder to read them in\n",
        "                    image = imread(source_path+'/'+ t[folder + (batch*batch_size)].strip().split(';')[0]+'/'+imgs[item]).astype(np.float32)\n",
        "                    \n",
        "                    #crop the images and resize them. Note that the images are of 2 different shape \n",
        "                    #and the conv3D will throw error if the inputs in a batch have different shapes\n",
        "                    \n",
        "                    batch_data[folder,idx,:,:,0] = image[:,:,0]/255 #normalise and feed in the image\n",
        "                    batch_data[folder,idx,:,:,1] = image[:,:,1]/255 #normalise and feed in the image\n",
        "                    batch_data[folder,idx,:,:,2] = image[:,:,2]/255 #normalise and feed in the image\n",
        "                    \n",
        "                batch_labels[folder, int(t[folder + (batch*batch_size)].strip().split(';')[2])] = 1\n",
        "            yield batch_data, batch_labels #you yield the batch_data and the batch_labels, remember what does yield do\n",
        "\n",
        "        \n",
        "        # write the code for the remaining data points which are left after full batches\n",
        "        if (len(t)%batch_size) != 0:\n",
        "            batch_data = np.zeros((len(t)%batch_size,15,120,120,3))\n",
        "            batch_labels = np.zeros((len(t)%batch_size,5))\n",
        "            for folder in range(len(t)%batch_size):\n",
        "                imgs = os.listdir(source_path+'/'+ t[folder + (num_batches*batch_size)].split(';')[0])\n",
        "                for idx,item in enumerate(img_idx):\n",
        "                    image = skimage.io.imread(source_path+'/'+ t[folder + (num_batches*batch_size)].strip().split(';')[0]+'/'+imgs[item]).astype(np.float32)\n",
        "                    image = skimage.transform.resize(image,(120,120)).astype(np.float32)\n",
        "\n",
        "                    batch_data[folder,idx,:,:,0] = image[:,:,0]/255\n",
        "                    batch_data[folder,idx,:,:,1] = image[:,:,1]/255\n",
        "                    batch_data[folder,idx,:,:,2] = image[:,:,2]/255\n",
        "\n",
        "                batch_labels[folder, int(t[folder + (num_batches*batch_size)].strip().split(';')[2])] = 1\n",
        "\n",
        "            yield batch_data, batch_labels"
      ]
    },
    {
      "cell_type": "markdown",
      "metadata": {
        "id": "IuV9gbA4clls"
      },
      "source": [
        "Note here that a video is represented above in the generator as (number of images, height, width, number of channels). Take this into consideration while creating the model architecture."
      ]
    },
    {
      "cell_type": "code",
      "execution_count": 10,
      "metadata": {
        "id": "540ivAs_cllw",
        "outputId": "fd9e6cf9-f96c-4879-f579-87a7437b3b7f",
        "colab": {
          "base_uri": "https://localhost:8080/"
        }
      },
      "outputs": [
        {
          "output_type": "stream",
          "name": "stdout",
          "text": [
            "# training sequences = 663\n",
            "# validation sequences = 100\n",
            "# epochs = 20\n"
          ]
        }
      ],
      "source": [
        "curr_dt_time = datetime.datetime.now()\n",
        "train_path = '/content/GestureRecognition/Project_data/train'\n",
        "val_path = '/content/GestureRecognition/Project_data/val'\n",
        "num_train_sequences = len(train_doc)\n",
        "print('# training sequences =', num_train_sequences)\n",
        "num_val_sequences = len(val_doc)\n",
        "print('# validation sequences =', num_val_sequences)\n",
        "num_epochs = 20 # choose the number of epochs\n",
        "print ('# epochs =', num_epochs)"
      ]
    },
    {
      "cell_type": "markdown",
      "metadata": {
        "id": "HTiE37gtcll0"
      },
      "source": [
        "## Model\n",
        "Here you make the model using different functionalities that Keras provides. Remember to use `Conv3D` and `MaxPooling3D` and not `Conv2D` and `Maxpooling2D` for a 3D convolution model. You would want to use `TimeDistributed` while building a Conv2D + RNN model. Also remember that the last layer is the softmax. Design the network in such a way that the model is able to give good accuracy on the least number of parameters so that it can fit in the memory of the webcam."
      ]
    },
    {
      "cell_type": "code",
      "execution_count": 12,
      "metadata": {
        "id": "F9xe0Ajdcll3"
      },
      "outputs": [],
      "source": [
        "from keras.models import Sequential, Model\n",
        "from keras.layers import Dense, GRU, Flatten, TimeDistributed, Flatten, BatchNormalization, Activation\n",
        "from keras.layers.convolutional import Conv3D, MaxPooling3D\n",
        "from keras.callbacks import ModelCheckpoint, ReduceLROnPlateau\n",
        "from keras import optimizers\n",
        "\n",
        "#write your model here\n"
      ]
    },
    {
      "cell_type": "markdown",
      "metadata": {
        "id": "8d67LsB-cll5"
      },
      "source": [
        "Now that you have written the model, the next step is to `compile` the model. When you print the `summary` of the model, you'll see the total number of parameters you have to train."
      ]
    },
    {
      "cell_type": "code",
      "execution_count": null,
      "metadata": {
        "scrolled": true,
        "id": "FPqLatCncll7"
      },
      "outputs": [],
      "source": [
        "optimiser = #write your optimizer\n",
        "model.compile(optimizer=optimiser, loss='categorical_crossentropy', metrics=['categorical_accuracy'])\n",
        "print (model.summary())"
      ]
    },
    {
      "cell_type": "markdown",
      "metadata": {
        "id": "MpdFaYqAcll9"
      },
      "source": [
        "Let us create the `train_generator` and the `val_generator` which will be used in `.fit_generator`."
      ]
    },
    {
      "cell_type": "code",
      "execution_count": null,
      "metadata": {
        "id": "PP-ThfHscll-"
      },
      "outputs": [],
      "source": [
        "train_generator = generator(train_path, train_doc, batch_size)\n",
        "val_generator = generator(val_path, val_doc, batch_size)"
      ]
    },
    {
      "cell_type": "code",
      "execution_count": null,
      "metadata": {
        "id": "j-6czm-Acll_"
      },
      "outputs": [],
      "source": [
        "model_name = 'model_init' + '_' + str(curr_dt_time).replace(' ','').replace(':','_') + '/'\n",
        "    \n",
        "if not os.path.exists(model_name):\n",
        "    os.mkdir(model_name)\n",
        "        \n",
        "filepath = model_name + 'model-{epoch:05d}-{loss:.5f}-{categorical_accuracy:.5f}-{val_loss:.5f}-{val_categorical_accuracy:.5f}.h5'\n",
        "\n",
        "checkpoint = ModelCheckpoint(filepath, monitor='val_loss', verbose=1, save_best_only=False, save_weights_only=False, mode='auto', period=1)\n",
        "\n",
        "LR = # write the REducelronplateau code here\n",
        "callbacks_list = [checkpoint, LR]"
      ]
    },
    {
      "cell_type": "markdown",
      "metadata": {
        "id": "ZrJNyDvYclmC"
      },
      "source": [
        "The `steps_per_epoch` and `validation_steps` are used by `fit_generator` to decide the number of next() calls it need to make."
      ]
    },
    {
      "cell_type": "code",
      "execution_count": null,
      "metadata": {
        "id": "IIKr8POBclmE"
      },
      "outputs": [],
      "source": [
        "if (num_train_sequences%batch_size) == 0:\n",
        "    steps_per_epoch = int(num_train_sequences/batch_size)\n",
        "else:\n",
        "    steps_per_epoch = (num_train_sequences//batch_size) + 1\n",
        "\n",
        "if (num_val_sequences%batch_size) == 0:\n",
        "    validation_steps = int(num_val_sequences/batch_size)\n",
        "else:\n",
        "    validation_steps = (num_val_sequences//batch_size) + 1"
      ]
    },
    {
      "cell_type": "markdown",
      "metadata": {
        "id": "faLTcnD9clmG"
      },
      "source": [
        "Let us now fit the model. This will start training the model and with the help of the checkpoints, you'll be able to save the model at the end of each epoch."
      ]
    },
    {
      "cell_type": "code",
      "execution_count": null,
      "metadata": {
        "id": "w0UMGbuwclmI"
      },
      "outputs": [],
      "source": [
        "model.fit_generator(train_generator, steps_per_epoch=steps_per_epoch, epochs=num_epochs, verbose=1, \n",
        "                    callbacks=callbacks_list, validation_data=val_generator, \n",
        "                    validation_steps=validation_steps, class_weight=None, workers=1, initial_epoch=0)"
      ]
    },
    {
      "cell_type": "code",
      "execution_count": null,
      "metadata": {
        "id": "LX0itZSGclmL"
      },
      "outputs": [],
      "source": []
    }
  ],
  "metadata": {
    "kernelspec": {
      "display_name": "Python 3",
      "language": "python",
      "name": "python3"
    },
    "language_info": {
      "codemirror_mode": {
        "name": "ipython",
        "version": 3
      },
      "file_extension": ".py",
      "mimetype": "text/x-python",
      "name": "python",
      "nbconvert_exporter": "python",
      "pygments_lexer": "ipython3",
      "version": "3.6.5"
    },
    "colab": {
      "provenance": [],
      "include_colab_link": true
    },
    "accelerator": "GPU",
    "gpuClass": "standard"
  },
  "nbformat": 4,
  "nbformat_minor": 0
}